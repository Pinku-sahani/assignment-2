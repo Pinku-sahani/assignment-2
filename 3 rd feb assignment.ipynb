{
 "cells": [
  {
   "cell_type": "markdown",
   "id": "28204e48-b287-40a3-9e0e-cdf55e2d2e3d",
   "metadata": {},
   "source": [
    "# Q1. Which keyword is used to create a function? Create a function to return a list of odd numbers in the\n",
    "# range of 1 to 25."
   ]
  },
  {
   "cell_type": "code",
   "execution_count": 1,
   "id": "1ab2f24e-5d9e-4d96-8875-a22146e56f91",
   "metadata": {},
   "outputs": [
    {
     "name": "stdin",
     "output_type": "stream",
     "text": [
      "Enter a number:  12\n"
     ]
    },
    {
     "name": "stdout",
     "output_type": "stream",
     "text": [
      "is Even\n"
     ]
    }
   ],
   "source": [
    "# def keyword to create a function\n",
    "# i am not understand this question so i am another logic to create a program\n",
    "num = int(input(\"Enter a number: \"))\n",
    "\n",
    "if (num % 2) == 0:\n",
    "    print(\"is Even\")\n",
    "else:\n",
    "    print(\"is Odd\")\n",
    "\n"
   ]
  },
  {
   "cell_type": "markdown",
   "id": "82713e25-88e8-4f21-9b4a-168127f54705",
   "metadata": {},
   "source": [
    "# Q2. Why *args and **kwargs is used in some functions? Create a function each for *args and **kwargs\n",
    "# to demonstrate their use."
   ]
  },
  {
   "cell_type": "code",
   "execution_count": 56,
   "id": "1b5d8611-81f8-407c-938f-56dae5c4f403",
   "metadata": {},
   "outputs": [
    {
     "name": "stdout",
     "output_type": "stream",
     "text": [
      "('pwskills', 'lucknow', 'basti')\n"
     ]
    }
   ],
   "source": [
    "# *args is the use os multiple data store in the data list\n",
    "def pinku(*args):\n",
    "    print(args)\n",
    "pinku(\"pwskills\",\"lucknow\",\"basti\")"
   ]
  },
  {
   "cell_type": "code",
   "execution_count": 71,
   "id": "4788a460-f1a5-44f6-b926-6ddf9a8aedd0",
   "metadata": {},
   "outputs": [
    {
     "name": "stdout",
     "output_type": "stream",
     "text": [
      "f1 pinku\n",
      "f2 physics wallah\n",
      "f3 hardwork\n",
      "f4 failed\n",
      "f5 successfull\n"
     ]
    }
   ],
   "source": [
    "# **kwargs is the use of key and value pare\n",
    "def kumar(**kwargs):\n",
    "    for key,value in kwargs.items():\n",
    "        print(key,value)\n",
    "kumar(f1=\"pinku\",f2=\"physics wallah\",f3=\"hardwork\",f4=\"failed\",f5=\"successfull\")"
   ]
  },
  {
   "cell_type": "markdown",
   "id": "be7d38c9-cd9f-496f-93ca-00c5e89a3cf6",
   "metadata": {},
   "source": [
    "# Q3. What is an iterator in python? Name the method used to initialise the iterator object and the method\n",
    "# used for iteration. Use these methods to print the first five elements of the given list [2, 4, 6, 8, 10, 12, 14,\n",
    "# 16, 18, 20]."
   ]
  },
  {
   "cell_type": "code",
   "execution_count": 72,
   "id": "bae0414b-0788-44db-9094-3abda437107f",
   "metadata": {},
   "outputs": [],
   "source": [
    "# sir i am not able to do this question"
   ]
  },
  {
   "cell_type": "markdown",
   "id": "fbbe15f5-468a-45b3-ac2f-6e4d361b80f7",
   "metadata": {
    "tags": []
   },
   "source": [
    "#  Q4. What is a generator function in python? Why yield keyword is used? Give an example of a generator\n",
    "# function. "
   ]
  },
  {
   "cell_type": "code",
   "execution_count": null,
   "id": "3bb6a22f-e290-4479-9ff9-982880f5e7e5",
   "metadata": {},
   "outputs": [],
   "source": [
    "# Python provides a generator to create your own iterator function. \n",
    "# A generator is a special type of function which does not return a single value, instead, \n",
    "# it returns an iterator object with a sequence of values. In a generator function, \n",
    "# a yield statement is used rather than a return statement. The following is a simple generator function.\n"
   ]
  },
  {
   "cell_type": "code",
   "execution_count": 77,
   "id": "9a72deff-9588-41d0-b356-a9ce8c0cabbc",
   "metadata": {},
   "outputs": [
    {
     "name": "stdout",
     "output_type": "stream",
     "text": [
      "0\n",
      "1\n",
      "2\n"
     ]
    }
   ],
   "source": [
    "def my_generator(n):\n",
    "\n",
    "    value = 0\n",
    "    \n",
    "    while value < n:\n",
    "\n",
    "    \n",
    "        yield value\n",
    "\n",
    "    \n",
    "        value += 1\n",
    "\n",
    "for value in my_generator(3):\n",
    "\n",
    "  \n",
    "    print(value)"
   ]
  },
  {
   "cell_type": "markdown",
   "id": "c7d321ce-20ea-4adf-a45c-18fff918b051",
   "metadata": {},
   "source": [
    "# Q5. Create a generator function for prime numbers less than 1000. Use the next() method to print the\n",
    "# first 20 prime numbers."
   ]
  },
  {
   "cell_type": "code",
   "execution_count": 78,
   "id": "001bd367-1c69-448f-9c55-3337464b08b2",
   "metadata": {},
   "outputs": [],
   "source": [
    "# sir i am not able to do this question"
   ]
  },
  {
   "cell_type": "markdown",
   "id": "9ba46176-8c40-447e-a666-0ab256585c9e",
   "metadata": {},
   "source": [
    "# Q6. Write a python program to print the first 10 Fibonacci numbers using a while loop."
   ]
  },
  {
   "cell_type": "code",
   "execution_count": 2,
   "id": "91a599da-37d9-4ab0-81cc-9105371b80d8",
   "metadata": {},
   "outputs": [
    {
     "name": "stdout",
     "output_type": "stream",
     "text": [
      "0\n",
      "1\n",
      "1\n",
      "2\n",
      "3\n",
      "5\n",
      "8\n",
      "13\n",
      "21\n",
      "34\n"
     ]
    }
   ],
   "source": [
    "count = 10\n",
    "n1 = 0\n",
    "n2 = 1\n",
    "itr = 0\n",
    "\n",
    "while itr<count:\n",
    "    print(n1)\n",
    "    n3=n1+n2\n",
    "    n1=n2\n",
    "    n2=n3\n",
    "    \n",
    "    itr = itr+1"
   ]
  },
  {
   "cell_type": "markdown",
   "id": "51714b99-27a5-4408-83b6-7df0624ed0cb",
   "metadata": {},
   "source": [
    "# Q7. Write a List Comprehension to iterate through the given string: ‘pwskills’.\n",
    "# Expected output: ['p', 'w', 's', 'k', 'i', 'l', 'l', 's']"
   ]
  },
  {
   "cell_type": "code",
   "execution_count": 3,
   "id": "0a9207eb-489a-4c6a-acec-429210fdfb1d",
   "metadata": {},
   "outputs": [
    {
     "name": "stdout",
     "output_type": "stream",
     "text": [
      "1\n",
      "2\n",
      "3\n",
      "4\n",
      "5\n",
      "6\n",
      "7\n",
      "8\n",
      "9\n",
      "10\n"
     ]
    }
   ],
   "source": [
    "#sir i am unbale to print pwskills so i m\n",
    "for i in range(1,11):\n",
    "    \n",
    "    print(i)"
   ]
  },
  {
   "cell_type": "markdown",
   "id": "0bec2df3-c1c5-4dba-a606-5862e41e9b4a",
   "metadata": {},
   "source": [
    "# Q8. Write a python program to check whether a given number is Palindrome or not using a while loop."
   ]
  },
  {
   "cell_type": "code",
   "execution_count": 7,
   "id": "093c45c8-89b4-4ddc-b5ca-732312e0e9c2",
   "metadata": {},
   "outputs": [
    {
     "name": "stdout",
     "output_type": "stream",
     "text": [
      "121 is a Palindrome\n"
     ]
    }
   ],
   "source": [
    "num = 121\n",
    "# calculate reverse of number\n",
    "reverse = 0\n",
    "number = num\n",
    "while(num != 0):\n",
    "    remainder = num % 10\n",
    "    reverse = reverse * 10 + remainder\n",
    "    num = int(num / 10)\n",
    "\n",
    "# compare reverse to original number\n",
    "if(number == reverse):\n",
    "    print(number,'is a Palindrome')\n",
    "else:\n",
    "    print(number,'is not a Palindrome')"
   ]
  },
  {
   "cell_type": "markdown",
   "id": "c5453efa-ad6f-4ae5-b2c9-d405fbd24345",
   "metadata": {},
   "source": [
    "# Q9. Write a code to print odd numbers from 1 to 100 using list comprehension."
   ]
  },
  {
   "cell_type": "code",
   "execution_count": 9,
   "id": "47f63e51-c6cc-46d0-a3c2-45ddbe768780",
   "metadata": {},
   "outputs": [
    {
     "name": "stdout",
     "output_type": "stream",
     "text": [
      "[1, 3, 5, 7, 9, 11, 13, 15, 17, 19, 21, 23, 25, 27, 29, 31, 33, 35, 37, 39, 41, 43, 45, 47, 49, 51, 53, 55, 57, 59, 61, 63, 65, 67, 69, 71, 73, 75, 77, 79, 81, 83, 85, 87, 89, 91, 93, 95, 97, 99]\n"
     ]
    }
   ],
   "source": [
    "v = [i for i in range(1,100) if i%2 != 0]\n",
    "print(v)"
   ]
  },
  {
   "cell_type": "code",
   "execution_count": null,
   "id": "f9c55abb-123d-4076-a577-a3d48d063e04",
   "metadata": {},
   "outputs": [],
   "source": []
  }
 ],
 "metadata": {
  "kernelspec": {
   "display_name": "Python 3 (ipykernel)",
   "language": "python",
   "name": "python3"
  },
  "language_info": {
   "codemirror_mode": {
    "name": "ipython",
    "version": 3
   },
   "file_extension": ".py",
   "mimetype": "text/x-python",
   "name": "python",
   "nbconvert_exporter": "python",
   "pygments_lexer": "ipython3",
   "version": "3.10.8"
  }
 },
 "nbformat": 4,
 "nbformat_minor": 5
}
